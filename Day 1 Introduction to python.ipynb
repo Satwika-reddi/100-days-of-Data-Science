{
 "cells": [
  {
   "cell_type": "markdown",
   "id": "5e408ce4",
   "metadata": {},
   "source": [
    "# variables\n",
    "\n",
    "variables are fundamental elements used for storing data. In python these are used for assigning a value to a variable.\n",
    "-->assiginig a value to variable\n",
    "-->Declaring,Type Checking,Dynamic Typing.\n"
   ]
  },
  {
   "cell_type": "code",
   "execution_count": 2,
   "id": "9ae026fc",
   "metadata": {},
   "outputs": [
    {
     "name": "stdout",
     "output_type": "stream",
     "text": [
      "Satwika\n",
      "BTech\n",
      "Data Science\n"
     ]
    }
   ],
   "source": [
    "#declaring and Assigning:\n",
    "Name=\"Satwika\"\n",
    "Qualification=\"BTech\"\n",
    "Specialization=\"Data Science\"\n",
    "print(Name)\n",
    "print(Qualification)\n",
    "print(Specialization)\n"
   ]
  },
  {
   "cell_type": "code",
   "execution_count": 3,
   "id": "db09cec7",
   "metadata": {},
   "outputs": [
    {
     "name": "stdout",
     "output_type": "stream",
     "text": [
      "<class 'str'>\n"
     ]
    }
   ],
   "source": [
    "#variable Types: Python is dynamically typed i.e type of variable is determined at runtime\n",
    "print(type(Name))"
   ]
  },
  {
   "cell_type": "markdown",
   "id": "370c5958",
   "metadata": {},
   "source": [
    "# DataTypes:\n",
    "Data types are the classification of the data which tell the compiler or interpreter on how the programmer intends to use the data.\n",
    "they determine the type of operation that can be performed on the data,the values that the data can take and the amount of memory needed to store the data.\n",
    "--> Basic Data Types : integer, float,boolean,string.\n",
    "--> Advance Data Types:Tuple,List,Set,Dictionary"
   ]
  },
  {
   "cell_type": "code",
   "execution_count": 46,
   "id": "361b5e4c",
   "metadata": {},
   "outputs": [
    {
     "name": "stdout",
     "output_type": "stream",
     "text": [
      "<class 'list'>\n"
     ]
    }
   ],
   "source": [
    "#List: List are ordered,mutable collection of items and they can contain different data types \n",
    "#creating a list\n",
    "lst=[]\n",
    "print(type(lst))"
   ]
  },
  {
   "cell_type": "code",
   "execution_count": 47,
   "id": "37e833fa",
   "metadata": {},
   "outputs": [
    {
     "name": "stdout",
     "output_type": "stream",
     "text": [
      "apple\n",
      "banana\n",
      "kiwi\n",
      "cherry\n"
     ]
    }
   ],
   "source": [
    "#Iterating over a list\n",
    "fruits=[\"apple\",\"banana\",\"kiwi\",\"cherry\"]\n",
    "for i in fruits:\n",
    "    print(i)"
   ]
  },
  {
   "cell_type": "code",
   "execution_count": 49,
   "id": "489210e1",
   "metadata": {},
   "outputs": [
    {
     "data": {
      "text/plain": [
       "['apple', 'banana', 'kiwi']"
      ]
     },
     "execution_count": 49,
     "metadata": {},
     "output_type": "execute_result"
    }
   ],
   "source": [
    "# Accessing List Elements: using indexing\n",
    "fruits[0]\n",
    "fruits[0:3]"
   ]
  },
  {
   "cell_type": "code",
   "execution_count": 50,
   "id": "5352ded5",
   "metadata": {},
   "outputs": [
    {
     "data": {
      "text/plain": [
       "['apple', 'banana', 'kiwi', 'cherry', 'orange']"
      ]
     },
     "execution_count": 50,
     "metadata": {},
     "output_type": "execute_result"
    }
   ],
   "source": [
    "#list methods\n",
    "#adding an element to the list\n",
    "fruits.append(\"orange\")\n",
    "fruits"
   ]
  },
  {
   "cell_type": "code",
   "execution_count": 51,
   "id": "28f24394",
   "metadata": {},
   "outputs": [
    {
     "data": {
      "text/plain": [
       "['apple', 'watermelon', 'banana', 'kiwi', 'cherry', 'orange']"
      ]
     },
     "execution_count": 51,
     "metadata": {},
     "output_type": "execute_result"
    }
   ],
   "source": [
    "#insert at particular position\n",
    "fruits.insert(1,\"watermelon\")\n",
    "fruits"
   ]
  },
  {
   "cell_type": "code",
   "execution_count": 52,
   "id": "dd90f04f",
   "metadata": {},
   "outputs": [
    {
     "data": {
      "text/plain": [
       "['watermelon', 'banana', 'kiwi', 'cherry', 'orange']"
      ]
     },
     "execution_count": 52,
     "metadata": {},
     "output_type": "execute_result"
    }
   ],
   "source": [
    "#remove:\n",
    "fruits.remove(\"apple\")\n",
    "fruits"
   ]
  },
  {
   "cell_type": "code",
   "execution_count": 53,
   "id": "710f1a8b",
   "metadata": {},
   "outputs": [
    {
     "data": {
      "text/plain": [
       "['watermelon', 'banana', 'kiwi', 'cherry']"
      ]
     },
     "execution_count": 53,
     "metadata": {},
     "output_type": "execute_result"
    }
   ],
   "source": [
    "#pop:is used to remove last item\n",
    "fruits.pop()\n",
    "fruits"
   ]
  },
  {
   "cell_type": "code",
   "execution_count": 54,
   "id": "18b5a3e5",
   "metadata": {},
   "outputs": [
    {
     "name": "stdout",
     "output_type": "stream",
     "text": [
      "3\n"
     ]
    }
   ],
   "source": [
    "#index of particular element\n",
    "index=fruits.index(\"cherry\")\n",
    "print(index)"
   ]
  },
  {
   "cell_type": "code",
   "execution_count": 58,
   "id": "556ccb54",
   "metadata": {},
   "outputs": [
    {
     "name": "stdout",
     "output_type": "stream",
     "text": [
      "['banana', 'cherry', 'kiwi', 'watermelon']\n"
     ]
    }
   ],
   "source": [
    "#sorting a list\n",
    "fruits.sort()#sort the list in ascending order\n",
    "print(fruits)"
   ]
  },
  {
   "cell_type": "markdown",
   "id": "50bab56f",
   "metadata": {},
   "source": [
    "# List\n",
    "List comprehension: performing all operations in one list\n",
    "syntax:Basic syntax: [expression for item in iterable]\n",
    "with conditional logic [expression for item in iterable if condition]\n",
    "Nested List Comprehension [expression for item1 in iterable1 for item2 in iterable2]"
   ]
  },
  {
   "cell_type": "code",
   "execution_count": 1,
   "id": "08e70413",
   "metadata": {},
   "outputs": [
    {
     "name": "stdout",
     "output_type": "stream",
     "text": [
      "[0, 1, 4, 9, 16, 25, 36, 49, 64, 81]\n"
     ]
    }
   ],
   "source": [
    "lst=[x**2 for x in range(10)]\n",
    "print(lst)"
   ]
  },
  {
   "cell_type": "code",
   "execution_count": 63,
   "id": "a242f2c0",
   "metadata": {},
   "outputs": [
    {
     "data": {
      "text/plain": [
       "[0, 2, 4, 6, 8]"
      ]
     },
     "execution_count": 63,
     "metadata": {},
     "output_type": "execute_result"
    }
   ],
   "source": [
    "#even number:\n",
    "lst=[i for i in range(10) if i%2==0]\n",
    "lst"
   ]
  },
  {
   "cell_type": "code",
   "execution_count": 66,
   "id": "83383c1a",
   "metadata": {},
   "outputs": [
    {
     "name": "stdout",
     "output_type": "stream",
     "text": [
      "[[1, 'a'], [1, 'b'], [1, 'c'], [1, 'd'], [2, 'a'], [2, 'b'], [2, 'c'], [2, 'd'], [3, 'a'], [3, 'b'], [3, 'c'], [3, 'd'], [4, 'a'], [4, 'b'], [4, 'c'], [4, 'd']]\n"
     ]
    }
   ],
   "source": [
    "#Nested list comphrension\n",
    "lst1=[1,2,3,4]\n",
    "lst2=['a','b','c','d']\n",
    "pair=[[i,j] for i in lst1 for j in lst2]\n",
    "print(pair)"
   ]
  },
  {
   "cell_type": "code",
   "execution_count": 67,
   "id": "007e5920",
   "metadata": {},
   "outputs": [
    {
     "data": {
      "text/plain": [
       "16"
      ]
     },
     "execution_count": 67,
     "metadata": {},
     "output_type": "execute_result"
    }
   ],
   "source": [
    "len(pair)"
   ]
  },
  {
   "cell_type": "markdown",
   "id": "8b2f5fa2",
   "metadata": {},
   "source": [
    "# Sets \n",
    "sets are built-in-data type in python used to store collection of unique items. They are unordered , Immutable and doesn't allow dublicates \n",
    "--> Sets are used for performing mathematical set operations like union,intersection"
   ]
  },
  {
   "cell_type": "code",
   "execution_count": 2,
   "id": "89192852",
   "metadata": {},
   "outputs": [
    {
     "data": {
      "text/plain": [
       "set"
      ]
     },
     "execution_count": 2,
     "metadata": {},
     "output_type": "execute_result"
    }
   ],
   "source": [
    "#creating a set\n",
    "my_set={1,2,3,4}\n",
    "type(my_set)"
   ]
  },
  {
   "cell_type": "code",
   "execution_count": 4,
   "id": "c91802d3",
   "metadata": {},
   "outputs": [
    {
     "data": {
      "text/plain": [
       "{1, 2, 3, 4, 7}"
      ]
     },
     "execution_count": 4,
     "metadata": {},
     "output_type": "execute_result"
    }
   ],
   "source": [
    "#Adding and Removing elements \n",
    "my_set.add(7)\n",
    "my_set"
   ]
  },
  {
   "cell_type": "code",
   "execution_count": 5,
   "id": "1018de89",
   "metadata": {},
   "outputs": [
    {
     "data": {
      "text/plain": [
       "{1, 2, 4, 7}"
      ]
     },
     "execution_count": 5,
     "metadata": {},
     "output_type": "execute_result"
    }
   ],
   "source": [
    "#removing elements\n",
    "my_set.remove(3)\n",
    "my_set"
   ]
  },
  {
   "cell_type": "code",
   "execution_count": 7,
   "id": "4db094f5",
   "metadata": {},
   "outputs": [
    {
     "data": {
      "text/plain": [
       "{1, 2, 4, 7}"
      ]
     },
     "execution_count": 7,
     "metadata": {},
     "output_type": "execute_result"
    }
   ],
   "source": [
    "#adding a duplicate element\n",
    "my_set.add(1)\n",
    "my_set  #there is no change"
   ]
  },
  {
   "cell_type": "code",
   "execution_count": 8,
   "id": "b876bf6b",
   "metadata": {},
   "outputs": [
    {
     "data": {
      "text/plain": [
       "{2, 4, 7}"
      ]
     },
     "execution_count": 8,
     "metadata": {},
     "output_type": "execute_result"
    }
   ],
   "source": [
    "# pop method\n",
    "my_set.pop()\n",
    "my_set"
   ]
  },
  {
   "cell_type": "code",
   "execution_count": 9,
   "id": "ec609ba6",
   "metadata": {},
   "outputs": [
    {
     "name": "stdout",
     "output_type": "stream",
     "text": [
      "{1, 2, 3, 4, 5, 6, 7, 8}\n"
     ]
    }
   ],
   "source": [
    "#operations\n",
    "set1={1,2,3,4,5}\n",
    "set2={4,5,6,7,8}\n",
    "print(set1.union(set2))"
   ]
  },
  {
   "cell_type": "code",
   "execution_count": 11,
   "id": "7ad70804",
   "metadata": {},
   "outputs": [
    {
     "name": "stdout",
     "output_type": "stream",
     "text": [
      "{4, 5}\n",
      "{1, 2, 3}\n",
      "False\n"
     ]
    }
   ],
   "source": [
    "#intersection\n",
    "print(set1.intersection(set2))\n",
    "print(set1.difference(set2))\n",
    "print(set1.issubset(set2))"
   ]
  },
  {
   "cell_type": "code",
   "execution_count": 12,
   "id": "e3c6885c",
   "metadata": {},
   "outputs": [
    {
     "name": "stdout",
     "output_type": "stream",
     "text": [
      "{1, 2, 3, 6, 7, 8}\n"
     ]
    }
   ],
   "source": [
    "print(set1.symmetric_difference(set2))"
   ]
  },
  {
   "cell_type": "code",
   "execution_count": 14,
   "id": "a2543298",
   "metadata": {},
   "outputs": [
    {
     "name": "stdout",
     "output_type": "stream",
     "text": [
      "{'on', 'sets', 'mainly', 'focused', 'This', 'topic', 'is'}\n"
     ]
    },
    {
     "data": {
      "text/plain": [
       "7"
      ]
     },
     "execution_count": 14,
     "metadata": {},
     "output_type": "execute_result"
    }
   ],
   "source": [
    "#counting unique words in text\n",
    "text=\"This topic is mainly focused on sets\"\n",
    "words=text.split()\n",
    "unique_words=set(words)\n",
    "print(unique_words)\n",
    "len(unique_words)"
   ]
  },
  {
   "cell_type": "markdown",
   "id": "009f69a7",
   "metadata": {},
   "source": [
    "## Dictionary:\n",
    "Dictionary are unordered collection of items.They store data in key-value pairs. Keys must be unique and immutable, while values can be of any type.\n"
   ]
  },
  {
   "cell_type": "code",
   "execution_count": 1,
   "id": "c07152ef",
   "metadata": {},
   "outputs": [
    {
     "data": {
      "text/plain": [
       "dict"
      ]
     },
     "execution_count": 1,
     "metadata": {},
     "output_type": "execute_result"
    }
   ],
   "source": [
    "#creating dictionary\n",
    "empty_dict={}\n",
    "type(empty_dict)"
   ]
  },
  {
   "cell_type": "code",
   "execution_count": 9,
   "id": "26b4011d",
   "metadata": {},
   "outputs": [
    {
     "name": "stdout",
     "output_type": "stream",
     "text": [
      "{'name': 'xyz', 'age': 21, 'grade': 'BTech'}\n"
     ]
    }
   ],
   "source": [
    "student={\"name\":\"xyz\",\"age\":21,\"grade\":\"BTech\"}\n",
    "print(student)"
   ]
  },
  {
   "cell_type": "code",
   "execution_count": 10,
   "id": "0fd617d9",
   "metadata": {},
   "outputs": [
    {
     "name": "stdout",
     "output_type": "stream",
     "text": [
      "xyz\n",
      "xyz\n"
     ]
    }
   ],
   "source": [
    "#accessing dictionary elements\n",
    "print(student['name'])\n",
    "\n",
    "#accessing using get() method\n",
    "print(student.get('name'))"
   ]
  },
  {
   "cell_type": "code",
   "execution_count": 11,
   "id": "2fa0e175",
   "metadata": {},
   "outputs": [
    {
     "name": "stdout",
     "output_type": "stream",
     "text": [
      "{'name': 'xyz', 'age': 25, 'grade': 'BTech'}\n"
     ]
    }
   ],
   "source": [
    "#modifying dictionary elements: dictionary are mutable we can add, update or delete elements\n",
    "student['age']=25\n",
    "print(student)\n"
   ]
  },
  {
   "cell_type": "code",
   "execution_count": 12,
   "id": "b27d57e0",
   "metadata": {},
   "outputs": [
    {
     "name": "stdout",
     "output_type": "stream",
     "text": [
      "{'name': 'xyz', 'age': 25}\n"
     ]
    }
   ],
   "source": [
    "del student['grade'] #delete key and value pair\n",
    "print(student)"
   ]
  },
  {
   "cell_type": "code",
   "execution_count": 15,
   "id": "3c7b82e4",
   "metadata": {},
   "outputs": [
    {
     "name": "stdout",
     "output_type": "stream",
     "text": [
      "dict_keys(['name', 'age'])\n",
      "dict_values(['xyz', 25])\n",
      "dict_items([('name', 'xyz'), ('age', 25)])\n"
     ]
    }
   ],
   "source": [
    "keys=student.keys() # get all the keys\n",
    "print(keys)\n",
    "values=student.values() #get all the value pairs\n",
    "print(values)\n",
    "items=student.items()#get all the items\n",
    "print(items)"
   ]
  },
  {
   "cell_type": "code",
   "execution_count": 17,
   "id": "88f4b7f6",
   "metadata": {},
   "outputs": [
    {
     "name": "stdout",
     "output_type": "stream",
     "text": [
      "{'name': 'xyz', 'age': 25}\n",
      "{'name': 'xyz', 'age': 25}\n"
     ]
    }
   ],
   "source": [
    "#shallow copy: allows a different memory location so that if anything changes in original there wont be an effect.\n",
    "student_copy=student.copy()\n",
    "print(student_copy)\n",
    "print(student)"
   ]
  },
  {
   "cell_type": "code",
   "execution_count": 18,
   "id": "5f13ca69",
   "metadata": {},
   "outputs": [
    {
     "name": "stdout",
     "output_type": "stream",
     "text": [
      "{'name': 'xyz', 'age': 25}\n",
      "{'name': 'xyza', 'age': 25}\n"
     ]
    }
   ],
   "source": [
    "student[\"name\"]=\"xyza\"\n",
    "print(student_copy)\n",
    "print(student)"
   ]
  },
  {
   "cell_type": "code",
   "execution_count": 19,
   "id": "82d5db6a",
   "metadata": {},
   "outputs": [
    {
     "name": "stdout",
     "output_type": "stream",
     "text": [
      "name\n",
      "age\n"
     ]
    }
   ],
   "source": [
    "#Iterating over dictionary:\n",
    "#Iterating over keys\n",
    "for keys in student.keys():\n",
    "    print(keys)"
   ]
  },
  {
   "cell_type": "code",
   "execution_count": 20,
   "id": "8f2ac6a9",
   "metadata": {},
   "outputs": [
    {
     "name": "stdout",
     "output_type": "stream",
     "text": [
      "xyza\n",
      "25\n"
     ]
    }
   ],
   "source": [
    "#Itearte over values\n",
    "for value in student.values():\n",
    "    print(value)"
   ]
  },
  {
   "cell_type": "code",
   "execution_count": 25,
   "id": "f26b7ad9",
   "metadata": {},
   "outputs": [
    {
     "name": "stdout",
     "output_type": "stream",
     "text": [
      "name:xyza\n",
      "age:25\n"
     ]
    }
   ],
   "source": [
    "#Itearting over keys,values\n",
    "for keys,values in student.items():\n",
    "    print(f\"{keys}:{values}\")"
   ]
  },
  {
   "cell_type": "code",
   "execution_count": 27,
   "id": "31f56125",
   "metadata": {},
   "outputs": [
    {
     "name": "stdout",
     "output_type": "stream",
     "text": [
      "{'student1': {'name': 'xyz1', 'age': '21'}, 'student2': {'name': 'xyz2', 'age': '22'}}\n"
     ]
    }
   ],
   "source": [
    "#Nested dictionaries\n",
    "students={\n",
    "    \"student1\":{\"name\":\"xyz1\",\"age\":\"21\"},\n",
    "    \"student2\":{\"name\":\"xyz2\",\"age\":\"22\"}\n",
    "}\n",
    "print(students)"
   ]
  },
  {
   "cell_type": "code",
   "execution_count": 28,
   "id": "1239e2be",
   "metadata": {},
   "outputs": [
    {
     "name": "stdout",
     "output_type": "stream",
     "text": [
      "xyz1\n"
     ]
    }
   ],
   "source": [
    "#accessing nested dictionaries\n",
    "print(students[\"student1\"][\"name\"])"
   ]
  },
  {
   "cell_type": "code",
   "execution_count": 29,
   "id": "2da69d47",
   "metadata": {},
   "outputs": [
    {
     "name": "stdout",
     "output_type": "stream",
     "text": [
      "student1:{'name': 'xyz1', 'age': '21'}\n",
      "name:xyz1\n",
      "age:21\n",
      "student2:{'name': 'xyz2', 'age': '22'}\n",
      "name:xyz2\n",
      "age:22\n"
     ]
    }
   ],
   "source": [
    "for student_id,student_info in students.items():\n",
    "    print(f\"{student_id}:{student_info}\")\n",
    "    for key,value in student_info.items():\n",
    "        print(f\"{key}:{value}\")"
   ]
  },
  {
   "cell_type": "code",
   "execution_count": 30,
   "id": "79c84bc1",
   "metadata": {},
   "outputs": [
    {
     "name": "stdout",
     "output_type": "stream",
     "text": [
      "{0: 0, 1: 1, 2: 4, 3: 9, 4: 16, 5: 25, 6: 36, 7: 49, 8: 64, 9: 81}\n"
     ]
    }
   ],
   "source": [
    "#dictionary comphrension\n",
    "#square of a number from 1 to 10\n",
    "square={x: x**2 for x in range(10)}\n",
    "print(square)"
   ]
  },
  {
   "cell_type": "code",
   "execution_count": 32,
   "id": "140df927",
   "metadata": {},
   "outputs": [
    {
     "name": "stdout",
     "output_type": "stream",
     "text": [
      "{1: 1, 2: 2, 3: 2, 4: 2, 5: 2}\n"
     ]
    }
   ],
   "source": [
    "#practice: count the frequency of elements in list\n",
    "numbers=[1,2,2,3,4,4,5,5,3]\n",
    "frequency={}\n",
    "for number in numbers:\n",
    "    if number in frequency:\n",
    "        frequency[number]+=1\n",
    "    else:\n",
    "        frequency[number]=1\n",
    "print(frequency)\n",
    "    "
   ]
  },
  {
   "cell_type": "markdown",
   "id": "c00c5e34",
   "metadata": {},
   "source": [
    "## Tuples\n",
    "Tuples are ordered collection of items that are immutable. They are similar to list but these are immutable "
   ]
  },
  {
   "cell_type": "code",
   "execution_count": 2,
   "id": "02317d81",
   "metadata": {},
   "outputs": [
    {
     "name": "stdout",
     "output_type": "stream",
     "text": [
      "<class 'tuple'>\n"
     ]
    }
   ],
   "source": [
    "#creating a tuple\n",
    "empty_tuple=()\n",
    "print(type(empty_tuple))"
   ]
  },
  {
   "cell_type": "code",
   "execution_count": 7,
   "id": "5d445e28",
   "metadata": {},
   "outputs": [
    {
     "data": {
      "text/plain": [
       "(3.14, 'True')"
      ]
     },
     "execution_count": 7,
     "metadata": {},
     "output_type": "execute_result"
    }
   ],
   "source": [
    "#accessing tuple element--> using indexing\n",
    "tuple1=(1,\"hello\",3.14,\"True\")\n",
    "tuple1\n",
    "tuple1[0]\n",
    "tuple1[2:4]"
   ]
  },
  {
   "cell_type": "code",
   "execution_count": 8,
   "id": "e32d19ad",
   "metadata": {},
   "outputs": [
    {
     "name": "stdout",
     "output_type": "stream",
     "text": [
      "(1, 'hello', 3.14, 'True', 1, 2, 3, 4)\n"
     ]
    }
   ],
   "source": [
    "#Tuple Operations--.concatenation\n",
    "mixed_tuple=(1,2,3,4)\n",
    "concatenation_tuple = tuple1+mixed_tuple\n",
    "print(concatenation_tuple)"
   ]
  },
  {
   "cell_type": "code",
   "execution_count": 9,
   "id": "e7080696",
   "metadata": {},
   "outputs": [
    {
     "name": "stdout",
     "output_type": "stream",
     "text": [
      "(1, 2, 3, 4, 1, 2, 3, 4)\n"
     ]
    }
   ],
   "source": [
    "print(mixed_tuple*2)"
   ]
  },
  {
   "cell_type": "code",
   "execution_count": 10,
   "id": "c08e1678",
   "metadata": {},
   "outputs": [
    {
     "ename": "TypeError",
     "evalue": "'tuple' object does not support item assignment",
     "output_type": "error",
     "traceback": [
      "\u001b[1;31m---------------------------------------------------------------------------\u001b[0m",
      "\u001b[1;31mTypeError\u001b[0m                                 Traceback (most recent call last)",
      "\u001b[1;32m~\\AppData\\Local\\Temp/ipykernel_25780/1041413996.py\u001b[0m in \u001b[0;36m<module>\u001b[1;34m\u001b[0m\n\u001b[0;32m      1\u001b[0m \u001b[1;31m#Immutable nature of tuples--> Their elements cannot be changed once assigned.\u001b[0m\u001b[1;33m\u001b[0m\u001b[1;33m\u001b[0m\u001b[0m\n\u001b[1;32m----> 2\u001b[1;33m \u001b[0mmixed_tuple\u001b[0m\u001b[1;33m[\u001b[0m\u001b[1;36m1\u001b[0m\u001b[1;33m]\u001b[0m\u001b[1;33m=\u001b[0m\u001b[1;34m\"20\"\u001b[0m\u001b[1;33m\u001b[0m\u001b[1;33m\u001b[0m\u001b[0m\n\u001b[0m",
      "\u001b[1;31mTypeError\u001b[0m: 'tuple' object does not support item assignment"
     ]
    }
   ],
   "source": [
    "#Immutable nature of tuples--> Their elements cannot be changed once assigned.\n",
    "mixed_tuple[1]=\"20\""
   ]
  },
  {
   "cell_type": "code",
   "execution_count": 12,
   "id": "52f20846",
   "metadata": {},
   "outputs": [
    {
     "name": "stdout",
     "output_type": "stream",
     "text": [
      "1\n",
      "0\n"
     ]
    }
   ],
   "source": [
    "print(tuple1.count(1))\n",
    "print(tuple1.index(1))"
   ]
  },
  {
   "cell_type": "code",
   "execution_count": 13,
   "id": "c48c8306",
   "metadata": {},
   "outputs": [],
   "source": [
    "nested_tuple=((1,2,3),(\"q\",\"b\",\"c\"),(\"True\",\"False\"))"
   ]
  },
  {
   "cell_type": "code",
   "execution_count": 14,
   "id": "91792254",
   "metadata": {},
   "outputs": [
    {
     "name": "stdout",
     "output_type": "stream",
     "text": [
      "1 2 3 \n",
      "q b c \n",
      "True False \n"
     ]
    }
   ],
   "source": [
    "#iterating over a nested tuple\n",
    "for sub_tuple in nested_tuple:\n",
    "    for item in sub_tuple:\n",
    "        print(item,end=\" \")\n",
    "    print()"
   ]
  },
  {
   "cell_type": "markdown",
   "id": "418e4560",
   "metadata": {},
   "source": [
    "# conditional Statements:\n",
    "-->If statements\n",
    "--> else statements\n",
    "--> elif statements\n",
    "--> Nested conditional statements \n"
   ]
  },
  {
   "cell_type": "code",
   "execution_count": 4,
   "id": "1a4b83a4",
   "metadata": {},
   "outputs": [
    {
     "name": "stdout",
     "output_type": "stream",
     "text": [
      "You are not eligible\n"
     ]
    }
   ],
   "source": [
    "# if statement is exceuted when the condition is satisfied where as \n",
    "#else statement is executed only when the if condition is False\n",
    "age= 17\n",
    "if age>=18:\n",
    "    print(\"You are eligible for voting\")\n",
    "else:\n",
    "    print(\"You are not eligible\")\n",
    "    "
   ]
  },
  {
   "cell_type": "code",
   "execution_count": 6,
   "id": "910bbe87",
   "metadata": {},
   "outputs": [
    {
     "name": "stdout",
     "output_type": "stream",
     "text": [
      "teenage\n"
     ]
    }
   ],
   "source": [
    "#elif statement is used when there are multiple else conditions elif means else if\n",
    "age=17\n",
    "if age>=18:\n",
    "    print(\"Adult\")\n",
    "elif age<=17:\n",
    "    print(\"teenage\")\n",
    "else:\n",
    "    print(\"child\")"
   ]
  },
  {
   "cell_type": "code",
   "execution_count": 7,
   "id": "1cd3a2e5",
   "metadata": {},
   "outputs": [
    {
     "name": "stdout",
     "output_type": "stream",
     "text": [
      "Enter year:2025\n",
      "2025 is not a leap year\n"
     ]
    }
   ],
   "source": [
    "#Nested condition:\n",
    "#we can place one or more if,elif,or else statement inside another if,elif,or else statement to create nested conditional statement\n",
    "# leap year:\n",
    "year=int(input(\"Enter year:\"))\n",
    "if year%4==0:\n",
    "    if year%100==0:\n",
    "        if year%400==0:\n",
    "            print(year,\"is a leap year\")\n",
    "        else:\n",
    "            print(Year,\"is not a leap year\")\n",
    "    else:\n",
    "        print(year,\"is a leap year\")\n",
    "else:\n",
    "    print(year,\"is not a leap year\")\n",
    "        \n",
    "    "
   ]
  },
  {
   "cell_type": "code",
   "execution_count": 13,
   "id": "a2a807f6",
   "metadata": {},
   "outputs": [
    {
     "name": "stdout",
     "output_type": "stream",
     "text": [
      "Enter a value 4\n",
      "Enter b value 5\n",
      "Enter operation *\n",
      "multiplication =  20\n"
     ]
    }
   ],
   "source": [
    "#simple calculator program operations-(+,-,*,/)\n",
    "a=int(input(\"Enter a value \"))\n",
    "b=int(input(\"Enter b value \"))\n",
    "operation=input(\"Enter operation \")\n",
    "if operation==\"+\":\n",
    "    print(\"Addition = \",a+b)\n",
    "elif operation=='-':\n",
    "    print(\"Subtraction = \",a-b)\n",
    "elif operation=='/':\n",
    "    print(\"division = \",a/b)\n",
    "elif operation=='*':\n",
    "    print(\"multiplication = \",a*b)\n",
    "else:\n",
    "    print(\"Invalid Operation\")"
   ]
  },
  {
   "cell_type": "markdown",
   "id": "f9cb9128",
   "metadata": {},
   "source": [
    "# Loops\n",
    "--> for Loop\n",
    "    --> Iterating over a range\n",
    "    --> Iterating over a string\n",
    "--> while loop\n",
    "--> Loop control Statements\n",
    "    -->break\n",
    "    -->continue\n",
    "    -->pass\n",
    "--> Nested Loops"
   ]
  },
  {
   "cell_type": "code",
   "execution_count": 14,
   "id": "405c7375",
   "metadata": {},
   "outputs": [
    {
     "name": "stdout",
     "output_type": "stream",
     "text": [
      "0\n",
      "1\n",
      "2\n",
      "3\n",
      "4\n",
      "5\n",
      "6\n",
      "7\n",
      "8\n",
      "9\n"
     ]
    }
   ],
   "source": [
    "#for loop :for loop is used for iterating over a sequence of numbers\n",
    "#syntax: for i in range():\n",
    "for i in range(10):\n",
    "    print(i)"
   ]
  },
  {
   "cell_type": "code",
   "execution_count": 18,
   "id": "052a702f",
   "metadata": {},
   "outputs": [
    {
     "name": "stdout",
     "output_type": "stream",
     "text": [
      "1\n",
      "3\n",
      "5\n",
      "7\n",
      "9\n"
     ]
    }
   ],
   "source": [
    "for i in range(1,10,2):\n",
    "    print(i)"
   ]
  },
  {
   "cell_type": "code",
   "execution_count": 17,
   "id": "9aef24d7",
   "metadata": {},
   "outputs": [
    {
     "name": "stdout",
     "output_type": "stream",
     "text": [
      "l\n",
      "a\n",
      "p\n",
      "t\n",
      "o\n",
      "p\n"
     ]
    }
   ],
   "source": [
    "str=\"laptop\"\n",
    "for i in str:\n",
    "    print(i)"
   ]
  },
  {
   "cell_type": "code",
   "execution_count": 22,
   "id": "30474659",
   "metadata": {},
   "outputs": [],
   "source": [
    "for i in range(1,10,-1):\n",
    "    print(i)"
   ]
  },
  {
   "cell_type": "code",
   "execution_count": 20,
   "id": "62060906",
   "metadata": {},
   "outputs": [],
   "source": [
    "#while loop: while loop continues to execute as long as the condition is True.\n",
    "count=10\n",
    "while count<10:\n",
    "    print(count)\n",
    "    count+=1"
   ]
  },
  {
   "cell_type": "code",
   "execution_count": 32,
   "id": "cecf4e74",
   "metadata": {},
   "outputs": [],
   "source": [
    "#loop control statements:\n",
    "#break:the break statement breaks the loop prematurely \n",
    "#continues: continue statement skips the current iteration and continue the loop\n",
    "#pass: pass is used as null operation\n",
    "for i in range(10):\n",
    "    if i%2==0:\n",
    "        break\n",
    "    print(i)\n",
    "    \n",
    "    \n",
    "    "
   ]
  },
  {
   "cell_type": "code",
   "execution_count": 33,
   "id": "fea4ac70",
   "metadata": {},
   "outputs": [
    {
     "name": "stdout",
     "output_type": "stream",
     "text": [
      "1\n",
      "3\n",
      "5\n",
      "7\n",
      "9\n"
     ]
    }
   ],
   "source": [
    "for i in range(10):\n",
    "    if i%2==0:\n",
    "        continue\n",
    "    print(i)"
   ]
  },
  {
   "cell_type": "code",
   "execution_count": 40,
   "id": "00ef6d6e",
   "metadata": {},
   "outputs": [
    {
     "name": "stdout",
     "output_type": "stream",
     "text": [
      "\n",
      "* \n",
      "* * \n",
      "* * * \n",
      "* * * * \n"
     ]
    }
   ],
   "source": [
    "#nested loops: a loop within a loop\n",
    "for i in range(5):\n",
    "    for j in range(0,i):\n",
    "        print(\"*\",end=\" \")\n",
    "    print()\n",
    "        "
   ]
  },
  {
   "cell_type": "code",
   "execution_count": 42,
   "id": "491ecea4",
   "metadata": {},
   "outputs": [
    {
     "name": "stdout",
     "output_type": "stream",
     "text": [
      "55\n"
     ]
    }
   ],
   "source": [
    "#sum of n natural numbers\n",
    "n=10\n",
    "sum=0\n",
    "count=1\n",
    "while count<=n:\n",
    "    sum+=count\n",
    "    count+=1\n",
    "print(sum)"
   ]
  },
  {
   "cell_type": "code",
   "execution_count": 31,
   "id": "dcb546f5",
   "metadata": {},
   "outputs": [
    {
     "name": "stdout",
     "output_type": "stream",
     "text": [
      "2\n",
      "3\n",
      "5\n",
      "7\n",
      "11\n",
      "13\n",
      "17\n",
      "19\n",
      "23\n",
      "29\n",
      "31\n",
      "37\n",
      "41\n",
      "43\n",
      "47\n"
     ]
    }
   ],
   "source": [
    "#prime numbers btw 1 to 100\n",
    "for num in range(1,50):\n",
    "    if num>1:\n",
    "        for i in range(2,num):\n",
    "            if num%i==0:\n",
    "                break\n",
    "        else:\n",
    "            print(num)"
   ]
  },
  {
   "cell_type": "code",
   "execution_count": null,
   "id": "fb595d1a",
   "metadata": {},
   "outputs": [],
   "source": []
  }
 ],
 "metadata": {
  "kernelspec": {
   "display_name": "Python 3 (ipykernel)",
   "language": "python",
   "name": "python3"
  },
  "language_info": {
   "codemirror_mode": {
    "name": "ipython",
    "version": 3
   },
   "file_extension": ".py",
   "mimetype": "text/x-python",
   "name": "python",
   "nbconvert_exporter": "python",
   "pygments_lexer": "ipython3",
   "version": "3.9.7"
  }
 },
 "nbformat": 4,
 "nbformat_minor": 5
}
